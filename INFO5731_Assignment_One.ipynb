{
  "nbformat": 4,
  "nbformat_minor": 0,
  "metadata": {
    "colab": {
      "name": "INFO5731_Assignment_One.ipynb",
      "provenance": [],
      "collapsed_sections": [],
      "include_colab_link": true
    },
    "kernelspec": {
      "display_name": "Python 3",
      "language": "python",
      "name": "python3"
    },
    "language_info": {
      "codemirror_mode": {
        "name": "ipython",
        "version": 3
      },
      "file_extension": ".py",
      "mimetype": "text/x-python",
      "name": "python",
      "nbconvert_exporter": "python",
      "pygments_lexer": "ipython3",
      "version": "3.8.8"
    }
  },
  "cells": [
    {
      "cell_type": "markdown",
      "metadata": {
        "id": "view-in-github",
        "colab_type": "text"
      },
      "source": [
        "<a href=\"https://colab.research.google.com/github/Sharath-11507563/sharath_INFO5731_-Fall2021/blob/main/INFO5731_Assignment_One.ipynb\" target=\"_parent\"><img src=\"https://colab.research.google.com/assets/colab-badge.svg\" alt=\"Open In Colab\"/></a>"
      ]
    },
    {
      "cell_type": "markdown",
      "metadata": {
        "id": "Ryk8D1Q4Wsrp"
      },
      "source": [
        "# **INFO5731 Assignment One**"
      ]
    },
    {
      "cell_type": "markdown",
      "metadata": {
        "id": "90_NR8c5XGWc"
      },
      "source": [
        "# Question 1\n",
        "\n",
        "(20 points). Write a Python program to generate 12 random numbers between 1 and 100. Sort the list of numbers in ascending order and print it out. Sort the list of numbers in descending order and print it out. Calculate the average for the group and print it out."
      ]
    },
    {
      "cell_type": "code",
      "metadata": {
        "id": "5QX6bJjGWXY9",
        "outputId": "bb9fb42e-3f5b-443d-b673-9e37f2c57764"
      },
      "source": [
        "#importing random module\n",
        "import random\n",
        "#taking a sample of 12 in the range of 0-100\n",
        "x = random.sample(range(1,101), 12)\n",
        "print ('Sample chosen is -',x)\n",
        "#sorting list in ascending order\n",
        "x.sort()\n",
        "print ('Ascending order - ', x)\n",
        "#sorting list in descending order\n",
        "x.sort(reverse=True)\n",
        "print ('Descending order -',x)\n",
        "#calculating average of list\n",
        "avg= sum(x)/len(x)\n",
        "print ('Average of the sample -',avg)"
      ],
      "execution_count": null,
      "outputs": [
        {
          "name": "stdout",
          "output_type": "stream",
          "text": [
            "Sample chosen is - [23, 92, 32, 79, 40, 58, 50, 20, 80, 68, 90, 66]\n",
            "Ascending order -  [20, 23, 32, 40, 50, 58, 66, 68, 79, 80, 90, 92]\n",
            "Descending order - [92, 90, 80, 79, 68, 66, 58, 50, 40, 32, 23, 20]\n",
            "Average of the sample - 58.166666666666664\n"
          ]
        }
      ]
    },
    {
      "cell_type": "markdown",
      "metadata": {
        "id": "1F_PZdH9Sh49"
      },
      "source": [
        "# Question 2\n",
        "(25 points). Write a program that will do the following string formatting tasks:\n",
        "\n",
        "(1) Ask the user to enter two sentences.\n",
        "\n",
        "(2) Make each sentence into a list. Each element in the list should correspond to a word in the sentence. For example, if the sentence is \"Alas! Am I alive? This is my first python program\", the program should print out ['Alas, '!', 'Am', 'I', 'alive, '?', 'This', 'is', 'my', 'first', 'python', 'program'].\n",
        "\n",
        "(3) Compare the two sentences. Print out a list of words that occur in both sentences.\n",
        "\n",
        "(4) Remove any punctuation from the sentence and print it back out. It should remove at least the following characters, but it can remove more: period(“.”), comma (“,”), semicolon (“;”), and colon (“:”)\n",
        "\n",
        "(5) Count the number of vowels in the sentences. Print out each vowel and the number of times it appears in the sentences, such as: a:2, e:1, i:0, etc"
      ]
    },
    {
      "cell_type": "code",
      "metadata": {
        "id": "Y0oOSlsOS0cq",
        "outputId": "a33bfdde-ba05-42ed-9e05-2e218d94c6cd"
      },
      "source": [
        "print('Enter first sentence')\n",
        "s1=input()\n",
        "print(\"Enter second sentence\")\n",
        "s2=input()"
      ],
      "execution_count": null,
      "outputs": [
        {
          "name": "stdout",
          "output_type": "stream",
          "text": [
            "Enter first sentence\n",
            "This\\is/the,first.sentence\n",
            "Enter second sentence\n",
            "Second[sentence-is,this\n"
          ]
        }
      ]
    },
    {
      "cell_type": "code",
      "metadata": {
        "id": "vFYlbpfNzN-m",
        "outputId": "94875c6d-b37f-4d80-bb2e-d6cbe5638025"
      },
      "source": [
        "#importing re module for string matching\n",
        "import re\n",
        "#breaking down the string into individual elements using function\n",
        "def into_sentence(input_string):\n",
        "#looking for multiple word characters or word characters that are not followed by space i.e., last character of the sentence\n",
        "  reg = re.compile(r'\\w+|[^\\w\\s]')\n",
        "  return reg.findall(input_string)\n",
        "#making the elements into a list\n",
        "list_s1 = into_sentence(s1)\n",
        "list_s2 = into_sentence(s2)\n",
        "print(\"The sentences in list format are:\")\n",
        "print(list_s1)\n",
        "print(list_s2)"
      ],
      "execution_count": null,
      "outputs": [
        {
          "name": "stdout",
          "output_type": "stream",
          "text": [
            "The sentences in list format are:\n",
            "['This', '\\\\', 'is', '/', 'the', ',', 'first', '.', 'sentence']\n",
            "['Second', '[', 'sentence', '-', 'is', ',', 'this']\n"
          ]
        }
      ]
    },
    {
      "cell_type": "code",
      "metadata": {
        "id": "V-r2sRORzN-p",
        "outputId": "1fa203d9-100e-4f13-8417-ff56a188a520"
      },
      "source": [
        "#creating empty list\n",
        "common_list = []\n",
        "#finding commong elements in the list\n",
        "for ele in list_s1:\n",
        "  if ele in list_s2:\n",
        "#appending all the common words to the empty list\n",
        "    common_list.append(ele)\n",
        "print(common_list)"
      ],
      "execution_count": null,
      "outputs": [
        {
          "name": "stdout",
          "output_type": "stream",
          "text": [
            "['is', ',', 'sentence']\n"
          ]
        }
      ]
    },
    {
      "cell_type": "code",
      "metadata": {
        "id": "3MRUlWf6zN-s",
        "outputId": "3a5d463e-5e33-4ff1-90a7-3b665115c758"
      },
      "source": [
        "#importing string module\n",
        "import string\n",
        "#defining function for identifying non-punctuation word characters\n",
        "def remove_punctuation(input_string):\n",
        "  return ''.join([i for i in input_string if i not in string.punctuation])\n",
        "#printing output\n",
        "print(\"First sentence without puncatuation is - {0}\".format(remove_punctuation(s1)))\n",
        "print(\"Second sentence without puncatuation is- {0}\".format(remove_punctuation(s2)))"
      ],
      "execution_count": null,
      "outputs": [
        {
          "name": "stdout",
          "output_type": "stream",
          "text": [
            "First sentence without puncatuation is - Thisisthefirstsentence\n",
            "Second sentence without puncatuation is- Secondsentenceisthis\n"
          ]
        }
      ]
    },
    {
      "cell_type": "code",
      "metadata": {
        "id": "O2DCrBOszN-u",
        "outputId": "a0a21aeb-6366-4eb1-8164-0901dcc1201a"
      },
      "source": [
        "#defining vowel count function\n",
        "def vowel_count(input_string):\n",
        "#coverting string into single case\n",
        "    input_string = input_string.lower()\n",
        "#counting number of vowels from sentence\n",
        "    count = {}.fromkeys('aeiou', 0) \n",
        "    for ele in input_string: \n",
        "        if ele in count: \n",
        "            count[ele] += 1\n",
        "    final_output = {x:y for x,y in count.items() if y!=0}\n",
        "    return final_output\n",
        "#printing output\n",
        "print(\"List and count of vowels in first sentence is {0}\".format(vowel_count(s1)))\n",
        "print(\"List and count of vowels in the seocnd sentence is {0}\".format(vowel_count(s2)))"
      ],
      "execution_count": null,
      "outputs": [
        {
          "name": "stdout",
          "output_type": "stream",
          "text": [
            "List and count of vowels in first sentence is {'e': 4, 'i': 3}\n",
            "List and count of vowels in the seocnd sentence is {'e': 4, 'i': 2, 'o': 1}\n"
          ]
        }
      ]
    },
    {
      "cell_type": "markdown",
      "metadata": {
        "id": "CmFoI4jDS9nx"
      },
      "source": [
        "# Question 3 \n",
        "\n",
        "(15 points). The formula that describes the volume V of a sphere with radius r is the following:\n",
        "\n",
        "$ V=\\frac{4}{3}\\ast\\ \\pi\\ast\\ r^3 $\n",
        "\n",
        "Write a program to calculate the value of V when r is in the range of 1–10. Output the result in the following format:\n",
        "\n",
        "\tr\tV\n",
        "\t1\t…\n",
        "\t2\t…\n",
        "\t3\t…\n"
      ]
    },
    {
      "cell_type": "code",
      "metadata": {
        "id": "pEyqeioAT95b",
        "outputId": "5cda7f8b-b772-44b3-dc84-1759db2171ea"
      },
      "source": [
        "#printing headers\n",
        "print(\"r\",\" \", \"V\")\n",
        "#starting for loop\n",
        "for r in range(1,11):\n",
        "    V = 1.33*3.14*r**3\n",
        "#printing output through looping\n",
        "    print (r,\" \", V)"
      ],
      "execution_count": null,
      "outputs": [
        {
          "name": "stdout",
          "output_type": "stream",
          "text": [
            "r   V\n",
            "1   4.176200000000001\n",
            "2   33.409600000000005\n",
            "3   112.75740000000002\n",
            "4   267.27680000000004\n",
            "5   522.0250000000001\n",
            "6   902.0592000000001\n",
            "7   1432.4366000000002\n",
            "8   2138.2144000000003\n",
            "9   3044.4498000000003\n",
            "10   4176.200000000001\n"
          ]
        }
      ]
    },
    {
      "cell_type": "markdown",
      "metadata": {
        "id": "z3tBE7E-Xn5X"
      },
      "source": [
        "# Question 4\n",
        "\n",
        "(40 points). In the field of Data Science, data is often formatted as a comma-delimited (CSV) file, where each line in a file corresponds to a field's value. Refer to Chapter 9 (p. 106) for more information on comma-delimited files. To answer this question, you will need to download the file [Assignment1_denton_housing.csv](https://github.com/unt-iialab/info5731-fall2021/blob/main/assignments/Assignment1_denton_housing.csv) included with this assignment. The file [Assignment1_denton_housing.csv](https://github.com/unt-iialab/info5731-fall2021/blob/main/assignments/Assignment1_denton_housing.csv) contains statistics about housing in the city of Denton from 2008 to 2014. Write a program to implement the following questions.\n",
        "\n",
        "(1) (10 pts) Calculate the difference in the number of Occupied Housing Units from year to year and print it. The difference must be calculated for the consecutive years such as 2008-2009, 2009-2010 etc. Finally, print the values in the ascending order.\n",
        "\n",
        "(2) (10 pts) For all the years, calculate the percentage of housing units which are vacant an occupied. Print the results in the following format:\n",
        "\n",
        "Year Vacant Housing Units Occupied Housing Units\n",
        "\n",
        "    2008  30%   70%                          \n",
        "\t2009 ----- -----\n",
        "\t2010 ----- -----\n",
        "    2011 ----- -----\n",
        "\t2012 ----- -----\n",
        "    2013 ----- -----\n",
        "\t2014 ----- -----\n",
        "  \n",
        "  \n",
        "\n",
        "(3) (10 pts) Calculate and print the valued and years in which the highest number of housing units were vacant and occupied. Print the results in the following format:  \n",
        "\n",
        "                              Year\tValue\n",
        "\tVacant Housing Units\t  -----   -----\n",
        "\tOccupied Housing Units\t-----   -----\n",
        "\n",
        "(4) (10 pts) Calculate the harmonic mean of the total housing units and print it out. You can find the information about harmonic mean here: https://ncalculators.com/statistics/harmonic-mean-calculator.htm"
      ]
    },
    {
      "cell_type": "code",
      "metadata": {
        "id": "lqGYuHBhcsRH",
        "outputId": "fd2b19d9-c91d-4b68-d509-1d70734ea650",
        "colab": {
          "base_uri": "https://localhost:8080/",
          "height": 363
        }
      },
      "source": [
        "import pandas as pd\n",
        "import statistics\n",
        "url='https://raw.githubusercontent.com/Sharath-11507563/sharath_INFO5731_-Fall2021/main/Assignment1_denton_housing.csv'\n",
        "household = pd.read_csv(url)\n",
        "household.head(10)"
      ],
      "execution_count": 8,
      "outputs": [
        {
          "output_type": "execute_result",
          "data": {
            "text/html": [
              "<div>\n",
              "<style scoped>\n",
              "    .dataframe tbody tr th:only-of-type {\n",
              "        vertical-align: middle;\n",
              "    }\n",
              "\n",
              "    .dataframe tbody tr th {\n",
              "        vertical-align: top;\n",
              "    }\n",
              "\n",
              "    .dataframe thead th {\n",
              "        text-align: right;\n",
              "    }\n",
              "</style>\n",
              "<table border=\"1\" class=\"dataframe\">\n",
              "  <thead>\n",
              "    <tr style=\"text-align: right;\">\n",
              "      <th></th>\n",
              "      <th>year</th>\n",
              "      <th>title_field</th>\n",
              "      <th>value</th>\n",
              "    </tr>\n",
              "  </thead>\n",
              "  <tbody>\n",
              "    <tr>\n",
              "      <th>0</th>\n",
              "      <td>2014</td>\n",
              "      <td>Total Housing Units</td>\n",
              "      <td>49109</td>\n",
              "    </tr>\n",
              "    <tr>\n",
              "      <th>1</th>\n",
              "      <td>2014</td>\n",
              "      <td>Vacant Housing Units</td>\n",
              "      <td>2814</td>\n",
              "    </tr>\n",
              "    <tr>\n",
              "      <th>2</th>\n",
              "      <td>2014</td>\n",
              "      <td>Occupied Housing Units</td>\n",
              "      <td>46295</td>\n",
              "    </tr>\n",
              "    <tr>\n",
              "      <th>3</th>\n",
              "      <td>2013</td>\n",
              "      <td>Total Housing Units</td>\n",
              "      <td>47888</td>\n",
              "    </tr>\n",
              "    <tr>\n",
              "      <th>4</th>\n",
              "      <td>2013</td>\n",
              "      <td>Vacant Housing Units</td>\n",
              "      <td>4215</td>\n",
              "    </tr>\n",
              "    <tr>\n",
              "      <th>5</th>\n",
              "      <td>2013</td>\n",
              "      <td>Occupied Housing Units</td>\n",
              "      <td>43673</td>\n",
              "    </tr>\n",
              "    <tr>\n",
              "      <th>6</th>\n",
              "      <td>2012</td>\n",
              "      <td>Total Housing Units</td>\n",
              "      <td>45121</td>\n",
              "    </tr>\n",
              "    <tr>\n",
              "      <th>7</th>\n",
              "      <td>2012</td>\n",
              "      <td>Vacant Housing Units</td>\n",
              "      <td>3013</td>\n",
              "    </tr>\n",
              "    <tr>\n",
              "      <th>8</th>\n",
              "      <td>2012</td>\n",
              "      <td>Occupied Housing Units</td>\n",
              "      <td>42108</td>\n",
              "    </tr>\n",
              "    <tr>\n",
              "      <th>9</th>\n",
              "      <td>2011</td>\n",
              "      <td>Total Housing Units</td>\n",
              "      <td>44917</td>\n",
              "    </tr>\n",
              "  </tbody>\n",
              "</table>\n",
              "</div>"
            ],
            "text/plain": [
              "   year             title_field  value\n",
              "0  2014     Total Housing Units  49109\n",
              "1  2014    Vacant Housing Units   2814\n",
              "2  2014  Occupied Housing Units  46295\n",
              "3  2013     Total Housing Units  47888\n",
              "4  2013    Vacant Housing Units   4215\n",
              "5  2013  Occupied Housing Units  43673\n",
              "6  2012     Total Housing Units  45121\n",
              "7  2012    Vacant Housing Units   3013\n",
              "8  2012  Occupied Housing Units  42108\n",
              "9  2011     Total Housing Units  44917"
            ]
          },
          "metadata": {},
          "execution_count": 8
        }
      ]
    },
    {
      "cell_type": "code",
      "source": [
        "# number of ocupied households\n",
        "occuped_households = household[household['title_field'] == 'Occupied Housing Units'].sort_values(by=['year'])\n",
        "\n",
        "# the difference in the number of Occupied Housing Units from year to year\n",
        "diff_household = [list(occuped_households['value'].values)[loop1] - list(occuped_households['value'].values)[loop1+1]\\\n",
        "              for loop1 in range(len(occuped_households)-1)]\n",
        "diff_household = sorted(diff_household)    # sorting in ascending order\n",
        "diff_household"
      ],
      "metadata": {
        "id": "Km39h9VWfHpD",
        "outputId": "fc068423-d850-437a-e104-e1a2ccf1fd60",
        "colab": {
          "base_uri": "https://localhost:8080/"
        }
      },
      "execution_count": 4,
      "outputs": [
        {
          "output_type": "execute_result",
          "data": {
            "text/plain": [
              "[-5091, -2622, -1565, -1404, 303, 795]"
            ]
          },
          "metadata": {},
          "execution_count": 4
        }
      ]
    },
    {
      "cell_type": "code",
      "source": [
        "unique_years = sorted(list(household['year'].unique()))   # legging list of unique year number\n",
        "occuped_households = household[household['title_field'] == 'Occupied Housing Units'].sort_values(by=['year'])# number of ocupied households\n",
        "\n",
        "\n",
        "vacant_households = household[household['title_field'] == 'Vacant Housing Units'].sort_values(by=['year'])# number of vacant households\n",
        "\n",
        "new_household_df = pd.DataFrame()\n",
        "new_household_df['year'] = unique_years\n",
        "new_household_df['Vacant household'] = vacant_households['value'].values\n",
        "new_household_df['Occupied household'] = occuped_households['value'].values\n",
        "new_household_df['Percent of Vacant household'] = [(new_household_df['Vacant household'][loop1] * 100) /\\\n",
        "                                           (new_household_df['Vacant household'][loop1] + new_household_df['Occupied household'][loop1])\\\n",
        "                                           for loop1 in range(len(new_household_df))]\n",
        "new_household_df['Percent of Occupied household'] = [(new_household_df['Occupied household'][loop1] * 100) /\\\n",
        "                                           (new_household_df['Vacant household'][loop1] + new_household_df['Occupied household'][loop1])\\\n",
        "                                           for loop1 in range(len(new_household_df))]\n",
        "new_household_df"
      ],
      "metadata": {
        "id": "loA18F3NfK8a",
        "outputId": "377bd1ae-9d76-41cd-e566-6f1e2b5bea11",
        "colab": {
          "base_uri": "https://localhost:8080/",
          "height": 269
        }
      },
      "execution_count": 5,
      "outputs": [
        {
          "output_type": "execute_result",
          "data": {
            "text/html": [
              "<div>\n",
              "<style scoped>\n",
              "    .dataframe tbody tr th:only-of-type {\n",
              "        vertical-align: middle;\n",
              "    }\n",
              "\n",
              "    .dataframe tbody tr th {\n",
              "        vertical-align: top;\n",
              "    }\n",
              "\n",
              "    .dataframe thead th {\n",
              "        text-align: right;\n",
              "    }\n",
              "</style>\n",
              "<table border=\"1\" class=\"dataframe\">\n",
              "  <thead>\n",
              "    <tr style=\"text-align: right;\">\n",
              "      <th></th>\n",
              "      <th>year</th>\n",
              "      <th>Vacant household</th>\n",
              "      <th>Occupied household</th>\n",
              "      <th>Percent of Vacant household</th>\n",
              "      <th>Percent of Occupied household</th>\n",
              "    </tr>\n",
              "  </thead>\n",
              "  <tbody>\n",
              "    <tr>\n",
              "      <th>0</th>\n",
              "      <td>2008</td>\n",
              "      <td>4483</td>\n",
              "      <td>36711</td>\n",
              "      <td>10.882653</td>\n",
              "      <td>89.117347</td>\n",
              "    </tr>\n",
              "    <tr>\n",
              "      <th>1</th>\n",
              "      <td>2009</td>\n",
              "      <td>3583</td>\n",
              "      <td>35916</td>\n",
              "      <td>9.071116</td>\n",
              "      <td>90.928884</td>\n",
              "    </tr>\n",
              "    <tr>\n",
              "      <th>2</th>\n",
              "      <td>2010</td>\n",
              "      <td>3635</td>\n",
              "      <td>41007</td>\n",
              "      <td>8.142556</td>\n",
              "      <td>91.857444</td>\n",
              "    </tr>\n",
              "    <tr>\n",
              "      <th>3</th>\n",
              "      <td>2011</td>\n",
              "      <td>4213</td>\n",
              "      <td>40704</td>\n",
              "      <td>9.379522</td>\n",
              "      <td>90.620478</td>\n",
              "    </tr>\n",
              "    <tr>\n",
              "      <th>4</th>\n",
              "      <td>2012</td>\n",
              "      <td>3013</td>\n",
              "      <td>42108</td>\n",
              "      <td>6.677600</td>\n",
              "      <td>93.322400</td>\n",
              "    </tr>\n",
              "    <tr>\n",
              "      <th>5</th>\n",
              "      <td>2013</td>\n",
              "      <td>4215</td>\n",
              "      <td>43673</td>\n",
              "      <td>8.801788</td>\n",
              "      <td>91.198212</td>\n",
              "    </tr>\n",
              "    <tr>\n",
              "      <th>6</th>\n",
              "      <td>2014</td>\n",
              "      <td>2814</td>\n",
              "      <td>46295</td>\n",
              "      <td>5.730111</td>\n",
              "      <td>94.269889</td>\n",
              "    </tr>\n",
              "  </tbody>\n",
              "</table>\n",
              "</div>"
            ],
            "text/plain": [
              "   year  ...  Percent of Occupied household\n",
              "0  2008  ...                      89.117347\n",
              "1  2009  ...                      90.928884\n",
              "2  2010  ...                      91.857444\n",
              "3  2011  ...                      90.620478\n",
              "4  2012  ...                      93.322400\n",
              "5  2013  ...                      91.198212\n",
              "6  2014  ...                      94.269889\n",
              "\n",
              "[7 rows x 5 columns]"
            ]
          },
          "metadata": {},
          "execution_count": 5
        }
      ]
    },
    {
      "cell_type": "code",
      "source": [
        "# the highest number of vacant housing units\n",
        "max_vacant_households = max(household[household['title_field'] == 'Vacant Housing Units'].value)\n",
        "vacant_households = vacant_households[vacant_households['value'] == max_vacant_households]\n",
        "vacant_households\n",
        "\n",
        "\n",
        "# the highest number of Occupied housing units\n",
        "max_occuped_households = max(household[household['title_field'] == 'Occupied Housing Units'].value)\n",
        "occuped_households = occuped_households[occuped_households['value'] == max_occuped_households]\n",
        "occuped_households"
      ],
      "metadata": {
        "id": "uKUALVVnfN9r",
        "outputId": "11776405-66aa-4a82-d9f4-83de9742dd35",
        "colab": {
          "base_uri": "https://localhost:8080/",
          "height": 81
        }
      },
      "execution_count": 6,
      "outputs": [
        {
          "output_type": "execute_result",
          "data": {
            "text/html": [
              "<div>\n",
              "<style scoped>\n",
              "    .dataframe tbody tr th:only-of-type {\n",
              "        vertical-align: middle;\n",
              "    }\n",
              "\n",
              "    .dataframe tbody tr th {\n",
              "        vertical-align: top;\n",
              "    }\n",
              "\n",
              "    .dataframe thead th {\n",
              "        text-align: right;\n",
              "    }\n",
              "</style>\n",
              "<table border=\"1\" class=\"dataframe\">\n",
              "  <thead>\n",
              "    <tr style=\"text-align: right;\">\n",
              "      <th></th>\n",
              "      <th>year</th>\n",
              "      <th>title_field</th>\n",
              "      <th>value</th>\n",
              "    </tr>\n",
              "  </thead>\n",
              "  <tbody>\n",
              "    <tr>\n",
              "      <th>2</th>\n",
              "      <td>2014</td>\n",
              "      <td>Occupied Housing Units</td>\n",
              "      <td>46295</td>\n",
              "    </tr>\n",
              "  </tbody>\n",
              "</table>\n",
              "</div>"
            ],
            "text/plain": [
              "   year             title_field  value\n",
              "2  2014  Occupied Housing Units  46295"
            ]
          },
          "metadata": {},
          "execution_count": 6
        }
      ]
    },
    {
      "cell_type": "code",
      "source": [
        "# number of ocupied households\n",
        "t_households = household[household['title_field'] == 'Total Housing Units'].sort_values(by=['year'])\n",
        "print(\"Harmonic Mean is % s \" % (statistics.harmonic_mean(t_households['value'])))"
      ],
      "metadata": {
        "id": "gVOqXuQufQil",
        "outputId": "d82f6ea7-8848-4215-ba97-0094018ab431",
        "colab": {
          "base_uri": "https://localhost:8080/"
        }
      },
      "execution_count": 7,
      "outputs": [
        {
          "output_type": "stream",
          "name": "stdout",
          "text": [
            "Harmonic Mean is 44398.28543969185 \n"
          ]
        }
      ]
    }
  ]
}