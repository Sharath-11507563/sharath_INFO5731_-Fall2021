{
  "nbformat": 4,
  "nbformat_minor": 0,
  "metadata": {
    "colab": {
      "name": "INFO5731_Assignment_One.ipynb",
      "provenance": [],
      "collapsed_sections": [],
      "include_colab_link": true
    },
    "kernelspec": {
      "display_name": "Python 3",
      "language": "python",
      "name": "python3"
    },
    "language_info": {
      "codemirror_mode": {
        "name": "ipython",
        "version": 3
      },
      "file_extension": ".py",
      "mimetype": "text/x-python",
      "name": "python",
      "nbconvert_exporter": "python",
      "pygments_lexer": "ipython3",
      "version": "3.8.8"
    }
  },
  "cells": [
    {
      "cell_type": "markdown",
      "metadata": {
        "id": "view-in-github",
        "colab_type": "text"
      },
      "source": [
        "<a href=\"https://colab.research.google.com/github/Sharath-11507563/sharath_INFO5731_-Fall2021/blob/main/INFO5731_Assignment_One.ipynb\" target=\"_parent\"><img src=\"https://colab.research.google.com/assets/colab-badge.svg\" alt=\"Open In Colab\"/></a>"
      ]
    },
    {
      "cell_type": "markdown",
      "metadata": {
        "id": "Ryk8D1Q4Wsrp"
      },
      "source": [
        "# **INFO5731 Assignment One**"
      ]
    },
    {
      "cell_type": "markdown",
      "metadata": {
        "id": "90_NR8c5XGWc"
      },
      "source": [
        "# Question 1\n",
        "\n",
        "(20 points). Write a Python program to generate 12 random numbers between 1 and 100. Sort the list of numbers in ascending order and print it out. Sort the list of numbers in descending order and print it out. Calculate the average for the group and print it out."
      ]
    },
    {
      "cell_type": "code",
      "metadata": {
        "id": "5QX6bJjGWXY9",
        "outputId": "bb9fb42e-3f5b-443d-b673-9e37f2c57764"
      },
      "source": [
        "#importing random module\n",
        "import random\n",
        "#taking a sample of 12 in the range of 0-100\n",
        "x = random.sample(range(1,101), 12)\n",
        "print ('Sample chosen is -',x)\n",
        "#sorting list in ascending order\n",
        "x.sort()\n",
        "print ('Ascending order - ', x)\n",
        "#sorting list in descending order\n",
        "x.sort(reverse=True)\n",
        "print ('Descending order -',x)\n",
        "#calculating average of list\n",
        "avg= sum(x)/len(x)\n",
        "print ('Average of the sample -',avg)"
      ],
      "execution_count": null,
      "outputs": [
        {
          "name": "stdout",
          "output_type": "stream",
          "text": [
            "Sample chosen is - [23, 92, 32, 79, 40, 58, 50, 20, 80, 68, 90, 66]\n",
            "Ascending order -  [20, 23, 32, 40, 50, 58, 66, 68, 79, 80, 90, 92]\n",
            "Descending order - [92, 90, 80, 79, 68, 66, 58, 50, 40, 32, 23, 20]\n",
            "Average of the sample - 58.166666666666664\n"
          ]
        }
      ]
    },
    {
      "cell_type": "markdown",
      "metadata": {
        "id": "1F_PZdH9Sh49"
      },
      "source": [
        "# Question 2\n",
        "(25 points). Write a program that will do the following string formatting tasks:\n",
        "\n",
        "(1) Ask the user to enter two sentences.\n",
        "\n",
        "(2) Make each sentence into a list. Each element in the list should correspond to a word in the sentence. For example, if the sentence is \"Alas! Am I alive? This is my first python program\", the program should print out ['Alas, '!', 'Am', 'I', 'alive, '?', 'This', 'is', 'my', 'first', 'python', 'program'].\n",
        "\n",
        "(3) Compare the two sentences. Print out a list of words that occur in both sentences.\n",
        "\n",
        "(4) Remove any punctuation from the sentence and print it back out. It should remove at least the following characters, but it can remove more: period(“.”), comma (“,”), semicolon (“;”), and colon (“:”)\n",
        "\n",
        "(5) Count the number of vowels in the sentences. Print out each vowel and the number of times it appears in the sentences, such as: a:2, e:1, i:0, etc"
      ]
    },
    {
      "cell_type": "code",
      "metadata": {
        "id": "Y0oOSlsOS0cq",
        "outputId": "a33bfdde-ba05-42ed-9e05-2e218d94c6cd"
      },
      "source": [
        "print('Enter first sentence')\n",
        "s1=input()\n",
        "print(\"Enter second sentence\")\n",
        "s2=input()"
      ],
      "execution_count": null,
      "outputs": [
        {
          "name": "stdout",
          "output_type": "stream",
          "text": [
            "Enter first sentence\n",
            "This\\is/the,first.sentence\n",
            "Enter second sentence\n",
            "Second[sentence-is,this\n"
          ]
        }
      ]
    },
    {
      "cell_type": "code",
      "metadata": {
        "id": "vFYlbpfNzN-m",
        "outputId": "94875c6d-b37f-4d80-bb2e-d6cbe5638025"
      },
      "source": [
        "#importing re module for string matching\n",
        "import re\n",
        "#breaking down the string into individual elements using function\n",
        "def into_sentence(input_string):\n",
        "#looking for multiple word characters or word characters that are not followed by space i.e., last character of the sentence\n",
        "  reg = re.compile(r'\\w+|[^\\w\\s]')\n",
        "  return reg.findall(input_string)\n",
        "#making the elements into a list\n",
        "list_s1 = into_sentence(s1)\n",
        "list_s2 = into_sentence(s2)\n",
        "print(\"The sentences in list format are:\")\n",
        "print(list_s1)\n",
        "print(list_s2)"
      ],
      "execution_count": null,
      "outputs": [
        {
          "name": "stdout",
          "output_type": "stream",
          "text": [
            "The sentences in list format are:\n",
            "['This', '\\\\', 'is', '/', 'the', ',', 'first', '.', 'sentence']\n",
            "['Second', '[', 'sentence', '-', 'is', ',', 'this']\n"
          ]
        }
      ]
    },
    {
      "cell_type": "code",
      "metadata": {
        "id": "V-r2sRORzN-p",
        "outputId": "1fa203d9-100e-4f13-8417-ff56a188a520"
      },
      "source": [
        "#creating empty list\n",
        "common_list = []\n",
        "#finding commong elements in the list\n",
        "for ele in list_s1:\n",
        "  if ele in list_s2:\n",
        "#appending all the common words to the empty list\n",
        "    common_list.append(ele)\n",
        "print(common_list)"
      ],
      "execution_count": null,
      "outputs": [
        {
          "name": "stdout",
          "output_type": "stream",
          "text": [
            "['is', ',', 'sentence']\n"
          ]
        }
      ]
    },
    {
      "cell_type": "code",
      "metadata": {
        "id": "3MRUlWf6zN-s",
        "outputId": "3a5d463e-5e33-4ff1-90a7-3b665115c758"
      },
      "source": [
        "#importing string module\n",
        "import string\n",
        "#defining function for identifying non-punctuation word characters\n",
        "def remove_punctuation(input_string):\n",
        "  return ''.join([i for i in input_string if i not in string.punctuation])\n",
        "#printing output\n",
        "print(\"First sentence without puncatuation is - {0}\".format(remove_punctuation(s1)))\n",
        "print(\"Second sentence without puncatuation is- {0}\".format(remove_punctuation(s2)))"
      ],
      "execution_count": null,
      "outputs": [
        {
          "name": "stdout",
          "output_type": "stream",
          "text": [
            "First sentence without puncatuation is - Thisisthefirstsentence\n",
            "Second sentence without puncatuation is- Secondsentenceisthis\n"
          ]
        }
      ]
    },
    {
      "cell_type": "code",
      "metadata": {
        "id": "O2DCrBOszN-u",
        "outputId": "a0a21aeb-6366-4eb1-8164-0901dcc1201a"
      },
      "source": [
        "#defining vowel count function\n",
        "def vowel_count(input_string):\n",
        "#coverting string into single case\n",
        "    input_string = input_string.lower()\n",
        "#counting number of vowels from sentence\n",
        "    count = {}.fromkeys('aeiou', 0) \n",
        "    for ele in input_string: \n",
        "        if ele in count: \n",
        "            count[ele] += 1\n",
        "    final_output = {x:y for x,y in count.items() if y!=0}\n",
        "    return final_output\n",
        "#printing output\n",
        "print(\"List and count of vowels in first sentence is {0}\".format(vowel_count(s1)))\n",
        "print(\"List and count of vowels in the seocnd sentence is {0}\".format(vowel_count(s2)))"
      ],
      "execution_count": null,
      "outputs": [
        {
          "name": "stdout",
          "output_type": "stream",
          "text": [
            "List and count of vowels in first sentence is {'e': 4, 'i': 3}\n",
            "List and count of vowels in the seocnd sentence is {'e': 4, 'i': 2, 'o': 1}\n"
          ]
        }
      ]
    },
    {
      "cell_type": "markdown",
      "metadata": {
        "id": "CmFoI4jDS9nx"
      },
      "source": [
        "# Question 3 \n",
        "\n",
        "(15 points). The formula that describes the volume V of a sphere with radius r is the following:\n",
        "\n",
        "$ V=\\frac{4}{3}\\ast\\ \\pi\\ast\\ r^3 $\n",
        "\n",
        "Write a program to calculate the value of V when r is in the range of 1–10. Output the result in the following format:\n",
        "\n",
        "\tr\tV\n",
        "\t1\t…\n",
        "\t2\t…\n",
        "\t3\t…\n"
      ]
    },
    {
      "cell_type": "code",
      "metadata": {
        "id": "pEyqeioAT95b",
        "outputId": "5cda7f8b-b772-44b3-dc84-1759db2171ea"
      },
      "source": [
        "#printing headers\n",
        "print(\"r\",\" \", \"V\")\n",
        "#starting for loop\n",
        "for r in range(1,11):\n",
        "    V = 1.33*3.14*r**3\n",
        "#printing output through looping\n",
        "    print (r,\" \", V)"
      ],
      "execution_count": null,
      "outputs": [
        {
          "name": "stdout",
          "output_type": "stream",
          "text": [
            "r   V\n",
            "1   4.176200000000001\n",
            "2   33.409600000000005\n",
            "3   112.75740000000002\n",
            "4   267.27680000000004\n",
            "5   522.0250000000001\n",
            "6   902.0592000000001\n",
            "7   1432.4366000000002\n",
            "8   2138.2144000000003\n",
            "9   3044.4498000000003\n",
            "10   4176.200000000001\n"
          ]
        }
      ]
    },
    {
      "cell_type": "markdown",
      "metadata": {
        "id": "z3tBE7E-Xn5X"
      },
      "source": [
        "# Question 4\n",
        "\n",
        "(40 points). In the field of Data Science, data is often formatted as a comma-delimited (CSV) file, where each line in a file corresponds to a field's value. Refer to Chapter 9 (p. 106) for more information on comma-delimited files. To answer this question, you will need to download the file [Assignment1_denton_housing.csv](https://github.com/unt-iialab/info5731-fall2021/blob/main/assignments/Assignment1_denton_housing.csv) included with this assignment. The file [Assignment1_denton_housing.csv](https://github.com/unt-iialab/info5731-fall2021/blob/main/assignments/Assignment1_denton_housing.csv) contains statistics about housing in the city of Denton from 2008 to 2014. Write a program to implement the following questions.\n",
        "\n",
        "(1) (10 pts) Calculate the difference in the number of Occupied Housing Units from year to year and print it. The difference must be calculated for the consecutive years such as 2008-2009, 2009-2010 etc. Finally, print the values in the ascending order.\n",
        "\n",
        "(2) (10 pts) For all the years, calculate the percentage of housing units which are vacant an occupied. Print the results in the following format:\n",
        "\n",
        "Year Vacant Housing Units Occupied Housing Units\n",
        "\n",
        "    2008  30%   70%                          \n",
        "\t2009 ----- -----\n",
        "\t2010 ----- -----\n",
        "    2011 ----- -----\n",
        "\t2012 ----- -----\n",
        "    2013 ----- -----\n",
        "\t2014 ----- -----\n",
        "  \n",
        "  \n",
        "\n",
        "(3) (10 pts) Calculate and print the valued and years in which the highest number of housing units were vacant and occupied. Print the results in the following format:  \n",
        "\n",
        "                              Year\tValue\n",
        "\tVacant Housing Units\t  -----   -----\n",
        "\tOccupied Housing Units\t-----   -----\n",
        "\n",
        "(4) (10 pts) Calculate the harmonic mean of the total housing units and print it out. You can find the information about harmonic mean here: https://ncalculators.com/statistics/harmonic-mean-calculator.htm"
      ]
    },
    {
      "cell_type": "code",
      "metadata": {
        "id": "lqGYuHBhcsRH"
      },
      "source": [
        ""
      ],
      "execution_count": null,
      "outputs": []
    }
  ]
}