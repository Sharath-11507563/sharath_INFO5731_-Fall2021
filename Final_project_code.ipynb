{
  "nbformat": 4,
  "nbformat_minor": 0,
  "metadata": {
    "colab": {
      "name": "Final_project_code.ipynb",
      "provenance": [],
      "include_colab_link": true
    },
    "kernelspec": {
      "name": "python3",
      "display_name": "Python 3"
    },
    "language_info": {
      "name": "python"
    }
  },
  "cells": [
    {
      "cell_type": "markdown",
      "metadata": {
        "id": "view-in-github",
        "colab_type": "text"
      },
      "source": [
        "<a href=\"https://colab.research.google.com/github/Sharath-11507563/sharath_INFO5731_-Fall2021/blob/main/Final_project_code.ipynb\" target=\"_parent\"><img src=\"https://colab.research.google.com/assets/colab-badge.svg\" alt=\"Open In Colab\"/></a>"
      ]
    },
    {
      "cell_type": "code",
      "metadata": {
        "id": "6Dv6TIMjOfVn",
        "colab": {
          "base_uri": "https://localhost:8080/"
        },
        "outputId": "a03e406e-bb28-44cc-9e73-9e0a997071a2"
      },
      "source": [
        "import nltk, re, string\n",
        "import pandas as pd\n",
        "import io\n",
        "from nltk.corpus import stopwords\n",
        "from nltk.stem import WordNetLemmatizer, PorterStemmer\n",
        "from sklearn.model_selection import train_test_split\n",
        "from sklearn.feature_extraction.text import TfidfVectorizer\n",
        "from sklearn.feature_extraction.text import TfidfTransformer\n",
        "from sklearn import svm\n",
        "from sklearn.naive_bayes import MultinomialNB\n",
        "from sklearn.pipeline import Pipeline\n",
        "from sklearn.metrics import classification_report\n",
        "from sklearn.linear_model import SGDClassifier\n",
        "from sklearn.tree import DecisionTreeClassifier\n",
        "from sklearn.linear_model import LogisticRegression\n",
        "from sklearn.ensemble import RandomForestClassifier\n",
        "from sklearn.model_selection import cross_val_score\n",
        "from sklearn import metrics\n",
        "import seaborn as sn\n",
        "\n",
        "nltk.download(\"stopwords\")\n",
        "nltk.download('punkt')\n",
        "nltk.download('wordnet')"
      ],
      "execution_count": 157,
      "outputs": [
        {
          "output_type": "stream",
          "name": "stdout",
          "text": [
            "[nltk_data] Downloading package stopwords to /root/nltk_data...\n",
            "[nltk_data]   Package stopwords is already up-to-date!\n",
            "[nltk_data] Downloading package punkt to /root/nltk_data...\n",
            "[nltk_data]   Package punkt is already up-to-date!\n",
            "[nltk_data] Downloading package wordnet to /root/nltk_data...\n",
            "[nltk_data]   Package wordnet is already up-to-date!\n"
          ]
        },
        {
          "output_type": "execute_result",
          "data": {
            "text/plain": [
              "True"
            ]
          },
          "metadata": {},
          "execution_count": 157
        }
      ]
    },
    {
      "cell_type": "code",
      "source": [
        "from google.colab import files \n",
        "uploaded = files.upload()"
      ],
      "metadata": {
        "colab": {
          "resources": {
            "http://localhost:8080/nbextensions/google.colab/files.js": {
              "data": "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",
              "ok": true,
              "headers": [
                [
                  "content-type",
                  "application/javascript"
                ]
              ],
              "status": 200,
              "status_text": "OK"
            }
          },
          "base_uri": "https://localhost:8080/",
          "height": 74
        },
        "id": "VjHISr8cGOs4",
        "outputId": "ab9f7e10-93a6-4476-9ded-a37a3b2422f9"
      },
      "execution_count": 158,
      "outputs": [
        {
          "output_type": "display_data",
          "data": {
            "text/html": [
              "\n",
              "     <input type=\"file\" id=\"files-5eab4805-b437-4d07-b3ec-c057ae8c33ad\" name=\"files[]\" multiple disabled\n",
              "        style=\"border:none\" />\n",
              "     <output id=\"result-5eab4805-b437-4d07-b3ec-c057ae8c33ad\">\n",
              "      Upload widget is only available when the cell has been executed in the\n",
              "      current browser session. Please rerun this cell to enable.\n",
              "      </output>\n",
              "      <script src=\"/nbextensions/google.colab/files.js\"></script> "
            ],
            "text/plain": [
              "<IPython.core.display.HTML object>"
            ]
          },
          "metadata": {}
        },
        {
          "output_type": "stream",
          "name": "stdout",
          "text": [
            "Saving Final_comments_with_no_aspects.csv to Final_comments_with_no_aspects (4).csv\n"
          ]
        }
      ]
    },
    {
      "cell_type": "code",
      "metadata": {
        "colab": {
          "base_uri": "https://localhost:8080/",
          "height": 206
        },
        "id": "KuUc5g9fPFh5",
        "outputId": "85d52c71-5608-4932-f342-262d9482f2eb"
      },
      "source": [
        "data = pd.read_csv(io.BytesIO(uploaded['Final_comments_with_no_aspects.csv']))\n",
        "data.head(5)"
      ],
      "execution_count": 159,
      "outputs": [
        {
          "output_type": "execute_result",
          "data": {
            "text/html": [
              "<div>\n",
              "<style scoped>\n",
              "    .dataframe tbody tr th:only-of-type {\n",
              "        vertical-align: middle;\n",
              "    }\n",
              "\n",
              "    .dataframe tbody tr th {\n",
              "        vertical-align: top;\n",
              "    }\n",
              "\n",
              "    .dataframe thead th {\n",
              "        text-align: right;\n",
              "    }\n",
              "</style>\n",
              "<table border=\"1\" class=\"dataframe\">\n",
              "  <thead>\n",
              "    <tr style=\"text-align: right;\">\n",
              "      <th></th>\n",
              "      <th>Docket_Id</th>\n",
              "      <th>Comment_Id</th>\n",
              "      <th>Comment</th>\n",
              "      <th>Annotator 1</th>\n",
              "      <th>Annotator 2</th>\n",
              "      <th>Annotator 3</th>\n",
              "    </tr>\n",
              "  </thead>\n",
              "  <tbody>\n",
              "    <tr>\n",
              "      <th>0</th>\n",
              "      <td>FDA-2010-D-0277</td>\n",
              "      <td>FDA-2010-D-0277-0007</td>\n",
              "      <td>I am urging the support of FDA 2010-D-0277-000...</td>\n",
              "      <td>Positive</td>\n",
              "      <td>positive</td>\n",
              "      <td>positive</td>\n",
              "    </tr>\n",
              "    <tr>\n",
              "      <th>1</th>\n",
              "      <td>FDA-2010-D-0277</td>\n",
              "      <td>FDA-2010-D-0277-0008</td>\n",
              "      <td>The Family Smoking Prevention and Tobacco Cont...</td>\n",
              "      <td>Positive</td>\n",
              "      <td>negative</td>\n",
              "      <td>negative</td>\n",
              "    </tr>\n",
              "    <tr>\n",
              "      <th>2</th>\n",
              "      <td>FDA-2010-D-0277</td>\n",
              "      <td>FDA-2010-D-0277-0010</td>\n",
              "      <td>As the director of a state tobacco control pro...</td>\n",
              "      <td>Positive</td>\n",
              "      <td>positive</td>\n",
              "      <td>positive</td>\n",
              "    </tr>\n",
              "    <tr>\n",
              "      <th>3</th>\n",
              "      <td>FDA-2010-D-0277</td>\n",
              "      <td>FDA-2010-D-0277-0011</td>\n",
              "      <td>Please, for the protection, health and welfare...</td>\n",
              "      <td>Positive</td>\n",
              "      <td>negative</td>\n",
              "      <td>positive</td>\n",
              "    </tr>\n",
              "    <tr>\n",
              "      <th>4</th>\n",
              "      <td>FDA-2010-D-0277</td>\n",
              "      <td>FDA-2010-D-0277-0013</td>\n",
              "      <td>Cigars, little cigars, and pipe tobacco can ho...</td>\n",
              "      <td>Positive</td>\n",
              "      <td>negative</td>\n",
              "      <td>positive</td>\n",
              "    </tr>\n",
              "  </tbody>\n",
              "</table>\n",
              "</div>"
            ],
            "text/plain": [
              "         Docket_Id            Comment_Id  ... Annotator 2 Annotator 3\n",
              "0  FDA-2010-D-0277  FDA-2010-D-0277-0007  ...    positive    positive\n",
              "1  FDA-2010-D-0277  FDA-2010-D-0277-0008  ...   negative     negative\n",
              "2  FDA-2010-D-0277  FDA-2010-D-0277-0010  ...    positive    positive\n",
              "3  FDA-2010-D-0277  FDA-2010-D-0277-0011  ...   negative     positive\n",
              "4  FDA-2010-D-0277  FDA-2010-D-0277-0013  ...   negative     positive\n",
              "\n",
              "[5 rows x 6 columns]"
            ]
          },
          "metadata": {},
          "execution_count": 159
        }
      ]
    },
    {
      "cell_type": "code",
      "source": [
        "data['Number of Sentences'] = data['Comment'].apply(lambda x: len(str(x).split(\".\")))\n",
        "data['Number of Words'] = data['Comment'].apply(lambda x: len(str(x).split(\" \")))\n",
        "data['Number of Characters'] = data['Comment'].str.len()\n",
        "def avg_word_length(sentence):\n",
        "  words = sentence.split()\n",
        "  if len(words) != 0:\n",
        "    return(sum(len(word) for word in words)/len(words))\n",
        "  else:\n",
        "    return None\n",
        "data['Average Word Length'] = data['Comment'].apply(lambda x: avg_word_length(x))\n",
        "stop = stopwords.words('english')\n",
        "data['Number of Stopwords'] = data['Comment'].apply(lambda x: len([x for x in x.split() if x in stop]))\n",
        "data['Number of numerics'] = data['Comment'].apply(lambda x: len([x for x in x.split() if x.isdigit()]))\n",
        "data['Number of upper case words'] = data['Comment'].apply(lambda x: len([x for x in x.split() if x.isupper()]))\n",
        "data.head(5)"
      ],
      "metadata": {
        "colab": {
          "base_uri": "https://localhost:8080/",
          "height": 397
        },
        "id": "yBUvrhFCFrn1",
        "outputId": "aca66a20-cb68-420d-bb55-843b91e977aa"
      },
      "execution_count": 160,
      "outputs": [
        {
          "output_type": "execute_result",
          "data": {
            "text/html": [
              "<div>\n",
              "<style scoped>\n",
              "    .dataframe tbody tr th:only-of-type {\n",
              "        vertical-align: middle;\n",
              "    }\n",
              "\n",
              "    .dataframe tbody tr th {\n",
              "        vertical-align: top;\n",
              "    }\n",
              "\n",
              "    .dataframe thead th {\n",
              "        text-align: right;\n",
              "    }\n",
              "</style>\n",
              "<table border=\"1\" class=\"dataframe\">\n",
              "  <thead>\n",
              "    <tr style=\"text-align: right;\">\n",
              "      <th></th>\n",
              "      <th>Docket_Id</th>\n",
              "      <th>Comment_Id</th>\n",
              "      <th>Comment</th>\n",
              "      <th>Annotator 1</th>\n",
              "      <th>Annotator 2</th>\n",
              "      <th>Annotator 3</th>\n",
              "      <th>Number of Sentences</th>\n",
              "      <th>Number of Words</th>\n",
              "      <th>Number of Characters</th>\n",
              "      <th>Average Word Length</th>\n",
              "      <th>Number of Stopwords</th>\n",
              "      <th>Number of numerics</th>\n",
              "      <th>Number of upper case words</th>\n",
              "    </tr>\n",
              "  </thead>\n",
              "  <tbody>\n",
              "    <tr>\n",
              "      <th>0</th>\n",
              "      <td>FDA-2010-D-0277</td>\n",
              "      <td>FDA-2010-D-0277-0007</td>\n",
              "      <td>I am urging the support of FDA 2010-D-0277-000...</td>\n",
              "      <td>Positive</td>\n",
              "      <td>positive</td>\n",
              "      <td>positive</td>\n",
              "      <td>5</td>\n",
              "      <td>78</td>\n",
              "      <td>462</td>\n",
              "      <td>5.133333</td>\n",
              "      <td>32</td>\n",
              "      <td>0</td>\n",
              "      <td>4</td>\n",
              "    </tr>\n",
              "    <tr>\n",
              "      <th>1</th>\n",
              "      <td>FDA-2010-D-0277</td>\n",
              "      <td>FDA-2010-D-0277-0008</td>\n",
              "      <td>The Family Smoking Prevention and Tobacco Cont...</td>\n",
              "      <td>Positive</td>\n",
              "      <td>negative</td>\n",
              "      <td>negative</td>\n",
              "      <td>6</td>\n",
              "      <td>146</td>\n",
              "      <td>904</td>\n",
              "      <td>5.345070</td>\n",
              "      <td>46</td>\n",
              "      <td>3</td>\n",
              "      <td>3</td>\n",
              "    </tr>\n",
              "    <tr>\n",
              "      <th>2</th>\n",
              "      <td>FDA-2010-D-0277</td>\n",
              "      <td>FDA-2010-D-0277-0010</td>\n",
              "      <td>As the director of a state tobacco control pro...</td>\n",
              "      <td>Positive</td>\n",
              "      <td>positive</td>\n",
              "      <td>positive</td>\n",
              "      <td>4</td>\n",
              "      <td>75</td>\n",
              "      <td>495</td>\n",
              "      <td>5.613333</td>\n",
              "      <td>25</td>\n",
              "      <td>0</td>\n",
              "      <td>1</td>\n",
              "    </tr>\n",
              "    <tr>\n",
              "      <th>3</th>\n",
              "      <td>FDA-2010-D-0277</td>\n",
              "      <td>FDA-2010-D-0277-0011</td>\n",
              "      <td>Please, for the protection, health and welfare...</td>\n",
              "      <td>Positive</td>\n",
              "      <td>negative</td>\n",
              "      <td>positive</td>\n",
              "      <td>4</td>\n",
              "      <td>64</td>\n",
              "      <td>362</td>\n",
              "      <td>4.901639</td>\n",
              "      <td>23</td>\n",
              "      <td>0</td>\n",
              "      <td>2</td>\n",
              "    </tr>\n",
              "    <tr>\n",
              "      <th>4</th>\n",
              "      <td>FDA-2010-D-0277</td>\n",
              "      <td>FDA-2010-D-0277-0013</td>\n",
              "      <td>Cigars, little cigars, and pipe tobacco can ho...</td>\n",
              "      <td>Positive</td>\n",
              "      <td>negative</td>\n",
              "      <td>positive</td>\n",
              "      <td>3</td>\n",
              "      <td>28</td>\n",
              "      <td>180</td>\n",
              "      <td>5.884615</td>\n",
              "      <td>10</td>\n",
              "      <td>0</td>\n",
              "      <td>1</td>\n",
              "    </tr>\n",
              "  </tbody>\n",
              "</table>\n",
              "</div>"
            ],
            "text/plain": [
              "         Docket_Id  ... Number of upper case words\n",
              "0  FDA-2010-D-0277  ...                          4\n",
              "1  FDA-2010-D-0277  ...                          3\n",
              "2  FDA-2010-D-0277  ...                          1\n",
              "3  FDA-2010-D-0277  ...                          2\n",
              "4  FDA-2010-D-0277  ...                          1\n",
              "\n",
              "[5 rows x 13 columns]"
            ]
          },
          "metadata": {},
          "execution_count": 160
        }
      ]
    },
    {
      "cell_type": "code",
      "source": [
        "print('The maximum,mimimum and average Number of sentences are',data['Number of Sentences'].max(),',',data['Number of Sentences'].min(),',',data['Number of Sentences'].mean())\n",
        "print('The maximum,minimum and average Number of Words are',data['Number of Words'].max(),',',data['Number of Words'].min(),',',data['Number of Words'].mean())\n",
        "print('The maximum,mimimum and average Number of Characters are',data['Number of Characters'].max(),',',data['Number of Characters'].min(),',',data['Number of Characters'].mean())\n",
        "print('The maximum,mimimum and average of Average Word Length are',data['Average Word Length'].max(),',',data['Average Word Length'].min(),',',data['Average Word Length'].mean())\n",
        "print('The maximum,mimimum and average Number of Stopwords are',data['Number of Stopwords'].max(),',',data['Number of Stopwords'].min(),',',data['Number of Stopwords'].mean())\n",
        "print('The maximum,mimimum and average Number of numerics are',data['Number of numerics'].max(),',',data['Number of numerics'].min(),',',data['Number of numerics'].mean())\n",
        "print('The maximum,mimimum and average Number of upper case words are',data['Number of upper case words'].max(),',',data['Number of upper case words'].min(),',',data['Number of upper case words'].mean())"
      ],
      "metadata": {
        "colab": {
          "base_uri": "https://localhost:8080/"
        },
        "id": "4kJFNH-nM8vQ",
        "outputId": "795a03c1-5bd3-48e7-fb51-f025e62ee92b"
      },
      "execution_count": 161,
      "outputs": [
        {
          "output_type": "stream",
          "name": "stdout",
          "text": [
            "The maximum,mimimum and average Number of sentences are 111 , 1 , 9.434869739478957\n",
            "The maximum,minimum and average Number of Words are 903 , 4 , 151.374749498998\n",
            "The maximum,mimimum and average Number of Characters are 5000 , 14 , 905.0040080160321\n",
            "The maximum,mimimum and average of Average Word Length are 14.2 , 2.5 , 5.004948179446248\n",
            "The maximum,mimimum and average Number of Stopwords are 386 , 0 , 58.90581162324649\n",
            "The maximum,mimimum and average Number of numerics are 11 , 0 , 0.6863727454909819\n",
            "The maximum,mimimum and average Number of upper case words are 226 , 0 , 5.218436873747495\n"
          ]
        }
      ]
    },
    {
      "cell_type": "code",
      "metadata": {
        "id": "KMc7asy7PXZX"
      },
      "source": [
        "stopwords_list = stopwords.words('english') # importing stopwords\n",
        "punctuations_list = string.punctuation # get punctuations\n",
        "lemmatizer = WordNetLemmatizer() # initialize word lemmatizer\n",
        "\n",
        "def filter_annotation(annotator):\n",
        "  (annotator1, annotator2, annotator3) = annotator\n",
        "  if annotator1.lower()[:3]=='pos' and annotator2.lower()[:3]=='pos' and annotator3.lower()[:3]=='pos': return \"Positive\"\n",
        "  elif annotator1.lower()[:3]=='neg' and annotator2.lower()[:3]=='neg' and annotator3.lower()[:3]=='neg': return \"Negative\"\n",
        "  elif annotator1.lower()[:3]=='neu' and annotator2.lower()[:3]=='neu' and annotator3.lower()[:3]=='neu': return \"Neutral\"\n",
        "  elif (annotator1.lower()[:3]=='pos' and annotator2.lower()[:3]=='pos') or  (annotator2.lower()[:3]=='pos' and annotator3.lower()[:3]=='pos') or (annotator3.lower()[:3]=='pos' and annotator1.lower()[:3]=='pos'): return \"Positive\"\n",
        "  elif (annotator1.lower()[:3]=='neg' and annotator2.lower()[:3]=='neg') or (annotator2.lower()[:3]=='neg' and annotator3.lower()[:3]=='neg') or (annotator3.lower()[:3]=='neg' and annotator1.lower()[:3]=='neg'): return \"Negative\"\n",
        "  elif (annotator1.lower()[:3]=='neu' and annotator2.lower()[:3]=='neu') or (annotator2.lower()[:3]=='neu' and annotator3.lower()[:3]=='neu') or (annotator3.lower()[:3]=='neu' and annotator1.lower()[:3]=='neu'): return \"Neutral\"\n",
        "  else: return 'Neutral'\n",
        "\n",
        "def preprocessing(text):\n",
        "    \"\"\"\n",
        "    This function will clean the given text\n",
        "    \"\"\"\n",
        "    text = re.sub('<[^>]*>', '', text)\n",
        "    emoticons = re.findall('(?::|;|=)(?:-)?(?:\\)|\\(|D|P)', text)\n",
        "    text = re.sub('[\\W]+', ' ', text.lower())\n",
        "    text = text + \" \".join(emoticons).replace('-', '')\n",
        "    tokenize_text = [lemmatizer.lemmatize(word) for word in nltk.tokenize.word_tokenize(text) \n",
        "                     if (word not in stopwords_list) and (word not in punctuations_list) and (len(word)>=2) and (word.isalpha())]\n",
        "    return \" \".join(tokenize_text)"
      ],
      "execution_count": 162,
      "outputs": []
    },
    {
      "cell_type": "code",
      "metadata": {
        "colab": {
          "base_uri": "https://localhost:8080/",
          "height": 467
        },
        "id": "Ose9uKrihudR",
        "outputId": "976826c9-71ca-4e13-d6c0-4f1784e57a78"
      },
      "source": [
        "data[\"Comment\"] = data[\"Comment\"].apply(str)\n",
        "data[\"Clean_Comment\"] = data[\"Comment\"].apply(preprocessing)\n",
        "data.head(5)"
      ],
      "execution_count": 163,
      "outputs": [
        {
          "output_type": "execute_result",
          "data": {
            "text/html": [
              "<div>\n",
              "<style scoped>\n",
              "    .dataframe tbody tr th:only-of-type {\n",
              "        vertical-align: middle;\n",
              "    }\n",
              "\n",
              "    .dataframe tbody tr th {\n",
              "        vertical-align: top;\n",
              "    }\n",
              "\n",
              "    .dataframe thead th {\n",
              "        text-align: right;\n",
              "    }\n",
              "</style>\n",
              "<table border=\"1\" class=\"dataframe\">\n",
              "  <thead>\n",
              "    <tr style=\"text-align: right;\">\n",
              "      <th></th>\n",
              "      <th>Docket_Id</th>\n",
              "      <th>Comment_Id</th>\n",
              "      <th>Comment</th>\n",
              "      <th>Annotator 1</th>\n",
              "      <th>Annotator 2</th>\n",
              "      <th>Annotator 3</th>\n",
              "      <th>Number of Sentences</th>\n",
              "      <th>Number of Words</th>\n",
              "      <th>Number of Characters</th>\n",
              "      <th>Average Word Length</th>\n",
              "      <th>Number of Stopwords</th>\n",
              "      <th>Number of numerics</th>\n",
              "      <th>Number of upper case words</th>\n",
              "      <th>Clean_Comment</th>\n",
              "    </tr>\n",
              "  </thead>\n",
              "  <tbody>\n",
              "    <tr>\n",
              "      <th>0</th>\n",
              "      <td>FDA-2010-D-0277</td>\n",
              "      <td>FDA-2010-D-0277-0007</td>\n",
              "      <td>I am urging the support of FDA 2010-D-0277-000...</td>\n",
              "      <td>Positive</td>\n",
              "      <td>positive</td>\n",
              "      <td>positive</td>\n",
              "      <td>5</td>\n",
              "      <td>78</td>\n",
              "      <td>462</td>\n",
              "      <td>5.133333</td>\n",
              "      <td>32</td>\n",
              "      <td>0</td>\n",
              "      <td>4</td>\n",
              "      <td>urging support fda support effort protecting c...</td>\n",
              "    </tr>\n",
              "    <tr>\n",
              "      <th>1</th>\n",
              "      <td>FDA-2010-D-0277</td>\n",
              "      <td>FDA-2010-D-0277-0008</td>\n",
              "      <td>The Family Smoking Prevention and Tobacco Cont...</td>\n",
              "      <td>Positive</td>\n",
              "      <td>negative</td>\n",
              "      <td>negative</td>\n",
              "      <td>6</td>\n",
              "      <td>146</td>\n",
              "      <td>904</td>\n",
              "      <td>5.345070</td>\n",
              "      <td>46</td>\n",
              "      <td>3</td>\n",
              "      <td>3</td>\n",
              "      <td>family smoking prevention tobacco control act ...</td>\n",
              "    </tr>\n",
              "    <tr>\n",
              "      <th>2</th>\n",
              "      <td>FDA-2010-D-0277</td>\n",
              "      <td>FDA-2010-D-0277-0010</td>\n",
              "      <td>As the director of a state tobacco control pro...</td>\n",
              "      <td>Positive</td>\n",
              "      <td>positive</td>\n",
              "      <td>positive</td>\n",
              "      <td>4</td>\n",
              "      <td>75</td>\n",
              "      <td>495</td>\n",
              "      <td>5.613333</td>\n",
              "      <td>25</td>\n",
              "      <td>0</td>\n",
              "      <td>1</td>\n",
              "      <td>director state tobacco control program would s...</td>\n",
              "    </tr>\n",
              "    <tr>\n",
              "      <th>3</th>\n",
              "      <td>FDA-2010-D-0277</td>\n",
              "      <td>FDA-2010-D-0277-0011</td>\n",
              "      <td>Please, for the protection, health and welfare...</td>\n",
              "      <td>Positive</td>\n",
              "      <td>negative</td>\n",
              "      <td>positive</td>\n",
              "      <td>4</td>\n",
              "      <td>64</td>\n",
              "      <td>362</td>\n",
              "      <td>4.901639</td>\n",
              "      <td>23</td>\n",
              "      <td>0</td>\n",
              "      <td>2</td>\n",
              "      <td>please protection health welfare child free to...</td>\n",
              "    </tr>\n",
              "    <tr>\n",
              "      <th>4</th>\n",
              "      <td>FDA-2010-D-0277</td>\n",
              "      <td>FDA-2010-D-0277-0013</td>\n",
              "      <td>Cigars, little cigars, and pipe tobacco can ho...</td>\n",
              "      <td>Positive</td>\n",
              "      <td>negative</td>\n",
              "      <td>positive</td>\n",
              "      <td>3</td>\n",
              "      <td>28</td>\n",
              "      <td>180</td>\n",
              "      <td>5.884615</td>\n",
              "      <td>10</td>\n",
              "      <td>0</td>\n",
              "      <td>1</td>\n",
              "      <td>cigar little cigar pipe tobacco hook young peo...</td>\n",
              "    </tr>\n",
              "  </tbody>\n",
              "</table>\n",
              "</div>"
            ],
            "text/plain": [
              "         Docket_Id  ...                                      Clean_Comment\n",
              "0  FDA-2010-D-0277  ...  urging support fda support effort protecting c...\n",
              "1  FDA-2010-D-0277  ...  family smoking prevention tobacco control act ...\n",
              "2  FDA-2010-D-0277  ...  director state tobacco control program would s...\n",
              "3  FDA-2010-D-0277  ...  please protection health welfare child free to...\n",
              "4  FDA-2010-D-0277  ...  cigar little cigar pipe tobacco hook young peo...\n",
              "\n",
              "[5 rows x 14 columns]"
            ]
          },
          "metadata": {},
          "execution_count": 163
        }
      ]
    },
    {
      "cell_type": "code",
      "metadata": {
        "id": "Rzzp4DHjWaBX"
      },
      "source": [
        "annotator = list(zip(data[\"Annotator 1\"], data[\"Annotator 2\"], data[\"Annotator 3\"]))\n",
        "data[\"Annotator\"] = list(map(filter_annotation, annotator))"
      ],
      "execution_count": 164,
      "outputs": []
    },
    {
      "cell_type": "code",
      "metadata": {
        "colab": {
          "base_uri": "https://localhost:8080/",
          "height": 591
        },
        "id": "68qZt5tNgutV",
        "outputId": "788a3b41-e2a1-48b3-d53f-ce96231780db"
      },
      "source": [
        "def absolute_sentiment(sentiment):\n",
        "  if sentiment==\"Positive\": return 1\n",
        "  elif sentiment==\"Negative\": return -1\n",
        "  else: return 0\n",
        "  \n",
        "data['Triple_Sentiments'] = data['Annotator'].apply(absolute_sentiment)\n",
        "data['Single_Sentiments'] = data['Annotator 1'].apply(absolute_sentiment)\n",
        "data.head(5)"
      ],
      "execution_count": 165,
      "outputs": [
        {
          "output_type": "execute_result",
          "data": {
            "text/html": [
              "<div>\n",
              "<style scoped>\n",
              "    .dataframe tbody tr th:only-of-type {\n",
              "        vertical-align: middle;\n",
              "    }\n",
              "\n",
              "    .dataframe tbody tr th {\n",
              "        vertical-align: top;\n",
              "    }\n",
              "\n",
              "    .dataframe thead th {\n",
              "        text-align: right;\n",
              "    }\n",
              "</style>\n",
              "<table border=\"1\" class=\"dataframe\">\n",
              "  <thead>\n",
              "    <tr style=\"text-align: right;\">\n",
              "      <th></th>\n",
              "      <th>Docket_Id</th>\n",
              "      <th>Comment_Id</th>\n",
              "      <th>Comment</th>\n",
              "      <th>Annotator 1</th>\n",
              "      <th>Annotator 2</th>\n",
              "      <th>Annotator 3</th>\n",
              "      <th>Number of Sentences</th>\n",
              "      <th>Number of Words</th>\n",
              "      <th>Number of Characters</th>\n",
              "      <th>Average Word Length</th>\n",
              "      <th>Number of Stopwords</th>\n",
              "      <th>Number of numerics</th>\n",
              "      <th>Number of upper case words</th>\n",
              "      <th>Clean_Comment</th>\n",
              "      <th>Annotator</th>\n",
              "      <th>Triple_Sentiments</th>\n",
              "      <th>Single_Sentiments</th>\n",
              "    </tr>\n",
              "  </thead>\n",
              "  <tbody>\n",
              "    <tr>\n",
              "      <th>0</th>\n",
              "      <td>FDA-2010-D-0277</td>\n",
              "      <td>FDA-2010-D-0277-0007</td>\n",
              "      <td>I am urging the support of FDA 2010-D-0277-000...</td>\n",
              "      <td>Positive</td>\n",
              "      <td>positive</td>\n",
              "      <td>positive</td>\n",
              "      <td>5</td>\n",
              "      <td>78</td>\n",
              "      <td>462</td>\n",
              "      <td>5.133333</td>\n",
              "      <td>32</td>\n",
              "      <td>0</td>\n",
              "      <td>4</td>\n",
              "      <td>urging support fda support effort protecting c...</td>\n",
              "      <td>Positive</td>\n",
              "      <td>1</td>\n",
              "      <td>1</td>\n",
              "    </tr>\n",
              "    <tr>\n",
              "      <th>1</th>\n",
              "      <td>FDA-2010-D-0277</td>\n",
              "      <td>FDA-2010-D-0277-0008</td>\n",
              "      <td>The Family Smoking Prevention and Tobacco Cont...</td>\n",
              "      <td>Positive</td>\n",
              "      <td>negative</td>\n",
              "      <td>negative</td>\n",
              "      <td>6</td>\n",
              "      <td>146</td>\n",
              "      <td>904</td>\n",
              "      <td>5.345070</td>\n",
              "      <td>46</td>\n",
              "      <td>3</td>\n",
              "      <td>3</td>\n",
              "      <td>family smoking prevention tobacco control act ...</td>\n",
              "      <td>Negative</td>\n",
              "      <td>-1</td>\n",
              "      <td>1</td>\n",
              "    </tr>\n",
              "    <tr>\n",
              "      <th>2</th>\n",
              "      <td>FDA-2010-D-0277</td>\n",
              "      <td>FDA-2010-D-0277-0010</td>\n",
              "      <td>As the director of a state tobacco control pro...</td>\n",
              "      <td>Positive</td>\n",
              "      <td>positive</td>\n",
              "      <td>positive</td>\n",
              "      <td>4</td>\n",
              "      <td>75</td>\n",
              "      <td>495</td>\n",
              "      <td>5.613333</td>\n",
              "      <td>25</td>\n",
              "      <td>0</td>\n",
              "      <td>1</td>\n",
              "      <td>director state tobacco control program would s...</td>\n",
              "      <td>Positive</td>\n",
              "      <td>1</td>\n",
              "      <td>1</td>\n",
              "    </tr>\n",
              "    <tr>\n",
              "      <th>3</th>\n",
              "      <td>FDA-2010-D-0277</td>\n",
              "      <td>FDA-2010-D-0277-0011</td>\n",
              "      <td>Please, for the protection, health and welfare...</td>\n",
              "      <td>Positive</td>\n",
              "      <td>negative</td>\n",
              "      <td>positive</td>\n",
              "      <td>4</td>\n",
              "      <td>64</td>\n",
              "      <td>362</td>\n",
              "      <td>4.901639</td>\n",
              "      <td>23</td>\n",
              "      <td>0</td>\n",
              "      <td>2</td>\n",
              "      <td>please protection health welfare child free to...</td>\n",
              "      <td>Positive</td>\n",
              "      <td>1</td>\n",
              "      <td>1</td>\n",
              "    </tr>\n",
              "    <tr>\n",
              "      <th>4</th>\n",
              "      <td>FDA-2010-D-0277</td>\n",
              "      <td>FDA-2010-D-0277-0013</td>\n",
              "      <td>Cigars, little cigars, and pipe tobacco can ho...</td>\n",
              "      <td>Positive</td>\n",
              "      <td>negative</td>\n",
              "      <td>positive</td>\n",
              "      <td>3</td>\n",
              "      <td>28</td>\n",
              "      <td>180</td>\n",
              "      <td>5.884615</td>\n",
              "      <td>10</td>\n",
              "      <td>0</td>\n",
              "      <td>1</td>\n",
              "      <td>cigar little cigar pipe tobacco hook young peo...</td>\n",
              "      <td>Positive</td>\n",
              "      <td>1</td>\n",
              "      <td>1</td>\n",
              "    </tr>\n",
              "  </tbody>\n",
              "</table>\n",
              "</div>"
            ],
            "text/plain": [
              "         Docket_Id            Comment_Id  ... Triple_Sentiments Single_Sentiments\n",
              "0  FDA-2010-D-0277  FDA-2010-D-0277-0007  ...                 1                 1\n",
              "1  FDA-2010-D-0277  FDA-2010-D-0277-0008  ...                -1                 1\n",
              "2  FDA-2010-D-0277  FDA-2010-D-0277-0010  ...                 1                 1\n",
              "3  FDA-2010-D-0277  FDA-2010-D-0277-0011  ...                 1                 1\n",
              "4  FDA-2010-D-0277  FDA-2010-D-0277-0013  ...                 1                 1\n",
              "\n",
              "[5 rows x 17 columns]"
            ]
          },
          "metadata": {},
          "execution_count": 165
        }
      ]
    },
    {
      "cell_type": "markdown",
      "source": [
        "#Triple annotation models"
      ],
      "metadata": {
        "id": "Z6nNskqHazd5"
      }
    },
    {
      "cell_type": "code",
      "metadata": {
        "id": "5tS_ySYug2tT"
      },
      "source": [
        "comment = data[\"Clean_Comment\"]\n",
        "sentiment = data[\"Triple_Sentiments\"]"
      ],
      "execution_count": 167,
      "outputs": []
    },
    {
      "cell_type": "code",
      "metadata": {
        "id": "4acq80xviaVL"
      },
      "source": [
        "X_train, X_test, Y_train, Y_test = train_test_split(comment,sentiment, test_size = 0.3, random_state = 60,shuffle=True, stratify=sentiment)"
      ],
      "execution_count": 168,
      "outputs": []
    },
    {
      "cell_type": "code",
      "metadata": {
        "colab": {
          "base_uri": "https://localhost:8080/",
          "height": 533
        },
        "id": "DZxImUohid2i",
        "outputId": "27271471-3899-496a-fc2f-f7a22f394312"
      },
      "source": [
        "nb_pipeline = Pipeline([('tfidf', TfidfVectorizer()), ('model', MultinomialNB()),])\n",
        "nb_pipeline.fit(X_train,Y_train)\n",
        "\n",
        "Y_pred = nb_pipeline.predict(X_test)\n",
        "\n",
        "confusion_matrix = pd.crosstab(Y_test, Y_pred, rownames=['Actual'], colnames=['Predicted'])\n",
        "sn.heatmap(confusion_matrix, annot=True, cmap='inferno')\n",
        "print('Accuracy: ',metrics.accuracy_score(Y_test, Y_pred))\n",
        "print(\"Navie Bayes accuracy on train data: \", round(nb_pipeline.score(X_train,Y_train)*100), '%')\n",
        "print(\"Navie Bayes accuracy on test data: \", round(nb_pipeline.score(X_test,Y_test)*100), '%')\n",
        "print(classification_report(Y_pred, Y_test))\n",
        "print('The Average Accuracy score for a ten-fold cross-validations is:',cross_val_score(nb_pipeline, comment, sentiment, cv=10, scoring ='accuracy').mean())"
      ],
      "execution_count": 170,
      "outputs": [
        {
          "output_type": "stream",
          "name": "stdout",
          "text": [
            "Accuracy:  0.5933333333333334\n",
            "Navie Bayes accuracy on train data:  76 %\n",
            "Navie Bayes accuracy on test data:  59 %\n",
            "              precision    recall  f1-score   support\n",
            "\n",
            "          -1       0.90      0.62      0.73       198\n",
            "           0       0.07      0.62      0.12         8\n",
            "           1       0.56      0.53      0.55        94\n",
            "\n",
            "    accuracy                           0.59       300\n",
            "   macro avg       0.51      0.59      0.47       300\n",
            "weighted avg       0.77      0.59      0.66       300\n",
            "\n",
            "The Average Accuracy score for a ten-fold cross-validations is: 0.5351717171717172\n"
          ]
        },
        {
          "output_type": "display_data",
          "data": {
            "image/png": "[encoded data removed]",
            "text/plain": [
              "<Figure size 432x288 with 2 Axes>"
            ]
          },
          "metadata": {
            "needs_background": "light"
          }
        }
      ]
    },
    {
      "cell_type": "code",
      "metadata": {
        "colab": {
          "base_uri": "https://localhost:8080/",
          "height": 515
        },
        "id": "IufdeLfgihbU",
        "outputId": "c4068e6f-252d-431a-da9f-60b37d171acb"
      },
      "source": [
        "svm_pipeline = Pipeline([('tfidf', TfidfVectorizer()),('model', SGDClassifier()),])\n",
        "svm_pipeline.fit(X_train,Y_train)\n",
        "\n",
        "Y_pred = svm_pipeline.predict(X_test)\n",
        "\n",
        "confusion_matrix = pd.crosstab(Y_test, Y_pred, rownames=['Actual'], colnames=['Predicted'])\n",
        "sn.heatmap(confusion_matrix, annot=True, cmap='inferno')\n",
        "print(\"SVM accuracy on train data: \", round(svm_pipeline.score(X_train,Y_train)*100), '%')\n",
        "print(\"SVM accuracy on test data: \", round(svm_pipeline.score(X_test,Y_test)*100), '%')\n",
        "print(classification_report(Y_pred, Y_test))\n",
        "print('The Average Accuracy score for a ten-fold cross-validations is:',cross_val_score(svm_pipeline, comment, sentiment, cv=10, scoring ='accuracy').mean())"
      ],
      "execution_count": 171,
      "outputs": [
        {
          "output_type": "stream",
          "name": "stdout",
          "text": [
            "SVM accuracy on train data:  99 %\n",
            "SVM accuracy on test data:  63 %\n",
            "              precision    recall  f1-score   support\n",
            "\n",
            "          -1       0.77      0.83      0.80       127\n",
            "           0       0.39      0.42      0.41        69\n",
            "           1       0.62      0.53      0.57       104\n",
            "\n",
            "    accuracy                           0.63       300\n",
            "   macro avg       0.59      0.59      0.59       300\n",
            "weighted avg       0.63      0.63      0.63       300\n",
            "\n",
            "The Average Accuracy score for a ten-fold cross-validations is: 0.5652525252525253\n"
          ]
        },
        {
          "output_type": "display_data",
          "data": {
            "image/png": "[encoded data removed]",
            "text/plain": [
              "<Figure size 432x288 with 2 Axes>"
            ]
          },
          "metadata": {
            "needs_background": "light"
          }
        }
      ]
    },
    {
      "cell_type": "code",
      "metadata": {
        "colab": {
          "base_uri": "https://localhost:8080/",
          "height": 519
        },
        "id": "KmTuOc4sinfB",
        "outputId": "9a0c1581-bbb1-4fce-cf3b-ad5ec2cb1f13"
      },
      "source": [
        "DT_pipeline = Pipeline([('tfidf', TfidfVectorizer()),('model', DecisionTreeClassifier()),])\n",
        "DT_pipeline.fit(X_train,Y_train)\n",
        "\n",
        "Y_pred = DT_pipeline.predict(X_test)\n",
        "\n",
        "confusion_matrix = pd.crosstab(Y_test, Y_pred, rownames=['Actual'], colnames=['Predicted'])\n",
        "sn.heatmap(confusion_matrix, annot=True, cmap='inferno')\n",
        "print(\"Decision Tree accuracy on train data: \", round(DT_pipeline.score(X_train,Y_train)*100), '%')\n",
        "print(\"Decision Tree accuracy on test data: \", round(DT_pipeline.score(X_test,Y_test)*100), '%')\n",
        "print(classification_report(Y_pred, Y_test))\n",
        "print('The Average Accuracy score for a ten-fold cross-validations is:',cross_val_score(DT_pipeline, comment, sentiment, cv=10, scoring ='accuracy').mean())"
      ],
      "execution_count": 172,
      "outputs": [
        {
          "output_type": "stream",
          "name": "stdout",
          "text": [
            "Decision Tree accuracy on train data:  99 %\n",
            "Decision Tree accuracy on test data:  54 %\n",
            "              precision    recall  f1-score   support\n",
            "\n",
            "          -1       0.66      0.74      0.69       122\n",
            "           0       0.38      0.35      0.36        80\n",
            "           1       0.49      0.45      0.47        98\n",
            "\n",
            "    accuracy                           0.54       300\n",
            "   macro avg       0.51      0.51      0.51       300\n",
            "weighted avg       0.53      0.54      0.53       300\n",
            "\n",
            "The Average Accuracy score for a ten-fold cross-validations is: 0.5191818181818182\n"
          ]
        },
        {
          "output_type": "display_data",
          "data": {
            "image/png": "[encoded data removed]",
            "text/plain": [
              "<Figure size 432x288 with 2 Axes>"
            ]
          },
          "metadata": {
            "needs_background": "light"
          }
        }
      ]
    },
    {
      "cell_type": "code",
      "metadata": {
        "colab": {
          "base_uri": "https://localhost:8080/",
          "height": 515
        },
        "id": "KTo17uIDiupV",
        "outputId": "c12d072e-050c-4fdb-fa57-efa468428854"
      },
      "source": [
        "RF_pipeline = Pipeline([('tfidf', TfidfVectorizer()),('model', RandomForestClassifier()),])\n",
        "RF_pipeline.fit(X_train,Y_train)\n",
        "\n",
        "Y_pred = RF_pipeline.predict(X_test)\n",
        "\n",
        "confusion_matrix = pd.crosstab(Y_test, Y_pred, rownames=['Actual'], colnames=['Predicted'])\n",
        "sn.heatmap(confusion_matrix, annot=True, cmap='inferno')\n",
        "print(\"Random Forest accuracy on train data: \", round(RF_pipeline.score(X_train,Y_train)*100), '%')\n",
        "print(\"Random Forest accuracy on test data: \", round(RF_pipeline.score(X_test,Y_test)*100), '%')\n",
        "print(classification_report(Y_pred, Y_test))\n",
        "print('The Average Accuracy score for a ten-fold cross-validations is:',cross_val_score(RF_pipeline, comment, sentiment, cv=10, scoring ='accuracy').mean())"
      ],
      "execution_count": 173,
      "outputs": [
        {
          "output_type": "stream",
          "name": "stdout",
          "text": [
            "Random Forest accuracy on train data:  99 %\n",
            "Random Forest accuracy on test data:  62 %\n",
            "              precision    recall  f1-score   support\n",
            "\n",
            "          -1       0.80      0.76      0.78       145\n",
            "           0       0.15      0.46      0.22        24\n",
            "           1       0.73      0.50      0.59       131\n",
            "\n",
            "    accuracy                           0.62       300\n",
            "   macro avg       0.56      0.57      0.53       300\n",
            "weighted avg       0.72      0.62      0.65       300\n",
            "\n",
            "The Average Accuracy score for a ten-fold cross-validations is: 0.6053535353535354\n"
          ]
        },
        {
          "output_type": "display_data",
          "data": {
            "image/png": "[encoded data removed]",
            "text/plain": [
              "<Figure size 432x288 with 2 Axes>"
            ]
          },
          "metadata": {
            "needs_background": "light"
          }
        }
      ]
    },
    {
      "cell_type": "code",
      "metadata": {
        "colab": {
          "base_uri": "https://localhost:8080/",
          "height": 515
        },
        "id": "Vka-FEcri3Jw",
        "outputId": "67901834-b319-48e9-f828-173597432891"
      },
      "source": [
        "LR_pipeline = Pipeline([('tfidf', TfidfVectorizer()),('model', LogisticRegression()),])\n",
        "LR_pipeline.fit(X_train,Y_train)\n",
        "\n",
        "Y_pred = LR_pipeline.predict(X_test)\n",
        "\n",
        "confusion_matrix = pd.crosstab(Y_test, Y_pred, rownames=['Actual'], colnames=['Predicted'])\n",
        "sn.heatmap(confusion_matrix, annot=True, cmap='inferno')\n",
        "print(\"Logestic Regression accuracy on train data: \", round(LR_pipeline.score(X_train,Y_train)*100), '%')\n",
        "print(\"Logestic Regression accuracy on test data: \", round(LR_pipeline.score(X_test,Y_test)*100), '%')\n",
        "print(classification_report(Y_pred, Y_test))\n",
        "print('The Average Accuracy score for a ten-fold cross-validations is:',cross_val_score(LR_pipeline, comment, sentiment, cv=10, scoring ='accuracy').mean())"
      ],
      "execution_count": 174,
      "outputs": [
        {
          "output_type": "stream",
          "name": "stdout",
          "text": [
            "Logestic Regression accuracy on train data:  93 %\n",
            "Logestic Regression accuracy on test data:  64 %\n",
            "              precision    recall  f1-score   support\n",
            "\n",
            "          -1       0.81      0.77      0.79       144\n",
            "           0       0.20      0.45      0.28        33\n",
            "           1       0.74      0.54      0.62       123\n",
            "\n",
            "    accuracy                           0.64       300\n",
            "   macro avg       0.58      0.59      0.56       300\n",
            "weighted avg       0.72      0.64      0.67       300\n",
            "\n",
            "The Average Accuracy score for a ten-fold cross-validations is: 0.5753232323232322\n"
          ]
        },
        {
          "output_type": "display_data",
          "data": {
            "image/png": "[encoded data removed]",
            "text/plain": [
              "<Figure size 432x288 with 2 Axes>"
            ]
          },
          "metadata": {
            "needs_background": "light"
          }
        }
      ]
    },
    {
      "cell_type": "markdown",
      "source": [
        "#Single annotation models"
      ],
      "metadata": {
        "id": "LSMV6vEGbS0Q"
      }
    },
    {
      "cell_type": "code",
      "source": [
        "comment = data[\"Clean_Comment\"]\n",
        "sentiment = data[\"Single_Sentiments\"]"
      ],
      "metadata": {
        "id": "DNIuKyDDbVeP"
      },
      "execution_count": 176,
      "outputs": []
    },
    {
      "cell_type": "code",
      "source": [
        "X_train, X_test, Y_train, Y_test = train_test_split(comment,sentiment, test_size = 0.3, random_state = 60,shuffle=True)"
      ],
      "metadata": {
        "id": "6ArcfVPAbeig"
      },
      "execution_count": 179,
      "outputs": []
    },
    {
      "cell_type": "code",
      "source": [
        "nb_pipeline = Pipeline([('tfidf', TfidfVectorizer()), ('model', MultinomialNB()),])\n",
        "nb_pipeline.fit(X_train,Y_train)\n",
        "\n",
        "Y_pred = nb_pipeline.predict(X_test)\n",
        "\n",
        "confusion_matrix = pd.crosstab(Y_test, Y_pred, rownames=['Actual'], colnames=['Predicted'])\n",
        "sn.heatmap(confusion_matrix, annot=True, cmap='inferno')\n",
        "print(\"Navie Bayes accuracy on train data: \", round(nb_pipeline.score(X_train,Y_train)*100), '%')\n",
        "print(\"Navie Bayes accuracy on test data: \", round(nb_pipeline.score(X_test,Y_test)*100), '%')\n",
        "print(classification_report(Y_pred, Y_test))\n",
        "print('The Average Accuracy score for a ten-fold cross-validations is:',cross_val_score(nb_pipeline, comment, sentiment, cv=10, scoring ='accuracy').mean())"
      ],
      "metadata": {
        "colab": {
          "base_uri": "https://localhost:8080/",
          "height": 515
        },
        "id": "qID675PUbhSQ",
        "outputId": "84203c72-d9a7-46e8-94ef-c539ebda1073"
      },
      "execution_count": 180,
      "outputs": [
        {
          "output_type": "stream",
          "name": "stdout",
          "text": [
            "Navie Bayes accuracy on train data:  78 %\n",
            "Navie Bayes accuracy on test data:  60 %\n",
            "              precision    recall  f1-score   support\n",
            "\n",
            "          -1       0.89      0.64      0.74       212\n",
            "           0       0.27      0.53      0.36        38\n",
            "           1       0.33      0.50      0.40        50\n",
            "\n",
            "    accuracy                           0.60       300\n",
            "   macro avg       0.50      0.55      0.50       300\n",
            "weighted avg       0.72      0.60      0.64       300\n",
            "\n",
            "The Average Accuracy score for a ten-fold cross-validations is: 0.5201919191919192\n"
          ]
        },
        {
          "output_type": "display_data",
          "data": {
            "image/png": "[encoded data removed]",
            "text/plain": [
              "<Figure size 432x288 with 2 Axes>"
            ]
          },
          "metadata": {
            "needs_background": "light"
          }
        }
      ]
    },
    {
      "cell_type": "code",
      "source": [
        "svm_pipeline = Pipeline([('tfidf', TfidfVectorizer()),('model', SGDClassifier()),])\n",
        "svm_pipeline.fit(X_train,Y_train)\n",
        "\n",
        "Y_pred = svm_pipeline.predict(X_test)\n",
        "\n",
        "confusion_matrix = pd.crosstab(Y_test, Y_pred, rownames=['Actual'], colnames=['Predicted'])\n",
        "sn.heatmap(confusion_matrix, annot=True, cmap='inferno')\n",
        "print(\"SVM accuracy on train data: \", round(svm_pipeline.score(X_train,Y_train)*100), '%')\n",
        "print(\"SVM accuracy on test data: \", round(svm_pipeline.score(X_test,Y_test)*100), '%')\n",
        "print(classification_report(Y_pred, Y_test))\n",
        "print('The Average Accuracy score for a ten-fold cross-validations is:',cross_val_score(svm_pipeline, comment, sentiment, cv=10, scoring ='accuracy').mean())"
      ],
      "metadata": {
        "colab": {
          "base_uri": "https://localhost:8080/",
          "height": 515
        },
        "id": "fq4LVw_Qbh-L",
        "outputId": "ea1c6971-bde6-42c5-af39-e21f180dfa9b"
      },
      "execution_count": 178,
      "outputs": [
        {
          "output_type": "stream",
          "name": "stdout",
          "text": [
            "SVM accuracy on train data:  99 %\n",
            "SVM accuracy on test data:  62 %\n",
            "              precision    recall  f1-score   support\n",
            "\n",
            "          -1       0.75      0.83      0.79       124\n",
            "           0       0.41      0.39      0.40        77\n",
            "           1       0.61      0.55      0.57        99\n",
            "\n",
            "    accuracy                           0.62       300\n",
            "   macro avg       0.59      0.59      0.59       300\n",
            "weighted avg       0.62      0.62      0.62       300\n",
            "\n",
            "The Average Accuracy score for a ten-fold cross-validations is: 0.5582424242424242\n"
          ]
        },
        {
          "output_type": "display_data",
          "data": {
            "image/png": "[encoded data removed]",
            "text/plain": [
              "<Figure size 432x288 with 2 Axes>"
            ]
          },
          "metadata": {
            "needs_background": "light"
          }
        }
      ]
    },
    {
      "cell_type": "code",
      "source": [
        "DT_pipeline = Pipeline([('tfidf', TfidfVectorizer()),('model', DecisionTreeClassifier()),])\n",
        "DT_pipeline.fit(X_train,Y_train)\n",
        "\n",
        "Y_pred = DT_pipeline.predict(X_test)\n",
        "\n",
        "confusion_matrix = pd.crosstab(Y_test, Y_pred, rownames=['Actual'], colnames=['Predicted'])\n",
        "sn.heatmap(confusion_matrix, annot=True, cmap='inferno')\n",
        "print(\"Decision Tree accuracy on train data: \", round(DT_pipeline.score(X_train,Y_train)*100), '%')\n",
        "print(\"Decision Tree accuracy on test data: \", round(DT_pipeline.score(X_test,Y_test)*100), '%')\n",
        "print(classification_report(Y_pred, Y_test))\n",
        "print('The Average Accuracy score for a ten-fold cross-validations is:',cross_val_score(DT_pipeline, comment, sentiment, cv=10, scoring ='accuracy').mean())"
      ],
      "metadata": {
        "colab": {
          "base_uri": "https://localhost:8080/",
          "height": 515
        },
        "id": "poqbEp4Iblhr",
        "outputId": "eca8662d-a5aa-40b7-d52f-b74fefd949b1"
      },
      "execution_count": 182,
      "outputs": [
        {
          "output_type": "stream",
          "name": "stdout",
          "text": [
            "Decision Tree accuracy on train data:  100 %\n",
            "Decision Tree accuracy on test data:  58 %\n",
            "              precision    recall  f1-score   support\n",
            "\n",
            "          -1       0.73      0.75      0.74       148\n",
            "           0       0.47      0.44      0.45        77\n",
            "           1       0.40      0.40      0.40        75\n",
            "\n",
            "    accuracy                           0.58       300\n",
            "   macro avg       0.53      0.53      0.53       300\n",
            "weighted avg       0.58      0.58      0.58       300\n",
            "\n",
            "The Average Accuracy score for a ten-fold cross-validations is: 0.5562323232323232\n"
          ]
        },
        {
          "output_type": "display_data",
          "data": {
            "image/png": "[encoded data removed]",
            "text/plain": [
              "<Figure size 432x288 with 2 Axes>"
            ]
          },
          "metadata": {
            "needs_background": "light"
          }
        }
      ]
    },
    {
      "cell_type": "code",
      "source": [
        "RF_pipeline = Pipeline([('tfidf', TfidfVectorizer()),('model', RandomForestClassifier()),])\n",
        "RF_pipeline.fit(X_train,Y_train)\n",
        "\n",
        "Y_pred = RF_pipeline.predict(X_test)\n",
        "\n",
        "confusion_matrix = pd.crosstab(Y_test, Y_pred, rownames=['Actual'], colnames=['Predicted'])\n",
        "sn.heatmap(confusion_matrix, annot=True, cmap='inferno')\n",
        "print(\"Random Forest accuracy on train data: \", round(RF_pipeline.score(X_train,Y_train)*100), '%')\n",
        "print(\"Random Forest accuracy on test data: \", round(RF_pipeline.score(X_test,Y_test)*100), '%')\n",
        "print(classification_report(Y_pred, Y_test))\n",
        "print('The Average Accuracy score for a ten-fold cross-validations is:',cross_val_score(RF_pipeline, comment, sentiment, cv=10, scoring ='accuracy').mean())"
      ],
      "metadata": {
        "colab": {
          "base_uri": "https://localhost:8080/",
          "height": 515
        },
        "id": "hENdesjtbp0_",
        "outputId": "2e090413-7a55-455a-8375-ee053037d24c"
      },
      "execution_count": 183,
      "outputs": [
        {
          "output_type": "stream",
          "name": "stdout",
          "text": [
            "Random Forest accuracy on train data:  100 %\n",
            "Random Forest accuracy on test data:  64 %\n",
            "              precision    recall  f1-score   support\n",
            "\n",
            "          -1       0.82      0.77      0.79       163\n",
            "           0       0.40      0.48      0.44        60\n",
            "           1       0.51      0.49      0.50        77\n",
            "\n",
            "    accuracy                           0.64       300\n",
            "   macro avg       0.58      0.58      0.58       300\n",
            "weighted avg       0.66      0.64      0.65       300\n",
            "\n",
            "The Average Accuracy score for a ten-fold cross-validations is: 0.6083030303030303\n"
          ]
        },
        {
          "output_type": "display_data",
          "data": {
            "image/png": "[encoded data removed]",
            "text/plain": [
              "<Figure size 432x288 with 2 Axes>"
            ]
          },
          "metadata": {
            "needs_background": "light"
          }
        }
      ]
    },
    {
      "cell_type": "code",
      "source": [
        "LR_pipeline = Pipeline([('tfidf', TfidfVectorizer()),('model', LogisticRegression()),])\n",
        "LR_pipeline.fit(X_train,Y_train)\n",
        "\n",
        "Y_pred = LR_pipeline.predict(X_test)\n",
        "\n",
        "confusion_matrix = pd.crosstab(Y_test, Y_pred, rownames=['Actual'], colnames=['Predicted'])\n",
        "sn.heatmap(confusion_matrix, annot=True, cmap='inferno')\n",
        "print(\"Logestic Regression accuracy on train data: \", round(LR_pipeline.score(X_train,Y_train)*100), '%')\n",
        "print(\"Logestic Regression accuracy on test data: \", round(LR_pipeline.score(X_test,Y_test)*100), '%')\n",
        "print(classification_report(Y_pred, Y_test))\n",
        "print('The Average Accuracy score for a ten-fold cross-validations is:',cross_val_score(LR_pipeline, comment, sentiment, cv=10, scoring ='accuracy').mean())"
      ],
      "metadata": {
        "colab": {
          "base_uri": "https://localhost:8080/",
          "height": 515
        },
        "id": "JnuxXlT2brpW",
        "outputId": "f445c344-6b46-455a-dcac-a2e83fcd83ff"
      },
      "execution_count": 184,
      "outputs": [
        {
          "output_type": "stream",
          "name": "stdout",
          "text": [
            "Logestic Regression accuracy on train data:  91 %\n",
            "Logestic Regression accuracy on test data:  68 %\n",
            "              precision    recall  f1-score   support\n",
            "\n",
            "          -1       0.83      0.80      0.82       157\n",
            "           0       0.41      0.55      0.47        55\n",
            "           1       0.63      0.53      0.58        88\n",
            "\n",
            "    accuracy                           0.68       300\n",
            "   macro avg       0.62      0.63      0.62       300\n",
            "weighted avg       0.69      0.68      0.68       300\n",
            "\n",
            "The Average Accuracy score for a ten-fold cross-validations is: 0.5982828282828283\n"
          ]
        },
        {
          "output_type": "display_data",
          "data": {
            "image/png": "[encoded data removed]",
            "text/plain": [
              "<Figure size 432x288 with 2 Axes>"
            ]
          },
          "metadata": {
            "needs_background": "light"
          }
        }
      ]
    }
  ]
}